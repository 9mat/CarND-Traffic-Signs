{
 "cells": [
  {
   "cell_type": "markdown",
   "metadata": {},
   "source": [
    "# Self-Driving Car Engineer Nanodegree\n",
    "\n",
    "## Deep Learning\n",
    "\n",
    "## Project: Build a Traffic Sign Recognition Classifier\n",
    "\n",
    "In this notebook, a template is provided for you to implement your functionality in stages which is required to successfully complete this project. If additional code is required that cannot be included in the notebook, be sure that the Python code is successfully imported and included in your submission, if necessary. Sections that begin with **'Implementation'** in the header indicate where you should begin your implementation for your project. Note that some sections of implementation are optional, and will be marked with **'Optional'** in the header.\n",
    "\n",
    "In addition to implementing code, there will be questions that you must answer which relate to the project and your implementation. Each section where you will answer a question is preceded by a **'Question'** header. Carefully read each question and provide thorough answers in the following text boxes that begin with **'Answer:'**. Your project submission will be evaluated based on your answers to each of the questions and the implementation you provide.\n",
    "\n",
    ">**Note:** Code and Markdown cells can be executed using the **Shift + Enter** keyboard shortcut. In addition, Markdown cells can be edited by typically double-clicking the cell to enter edit mode."
   ]
  },
  {
   "cell_type": "markdown",
   "metadata": {},
   "source": [
    "---\n",
    "## Step 0: Load The Data"
   ]
  },
  {
   "cell_type": "code",
   "execution_count": 1,
   "metadata": {
    "collapsed": false
   },
   "outputs": [],
   "source": [
    "# Load pickled data\n",
    "import pickle\n",
    "\n",
    "# TODO: Fill this in based on where you saved the training and testing data\n",
    "\n",
    "import os\n",
    "import zipfile\n",
    "import urllib.request\n",
    "\n",
    "training_file = './data/train.p'\n",
    "testing_file = './data/test.p'\n",
    "url = 'https://d17h27t6h515a5.cloudfront.net/topher/2016/November/581faac4_traffic-signs-data/traffic-signs-data.zip'\n",
    "\n",
    "if not os.path.isfile(training_file):\n",
    "    data_dir = os.path.dirname(training_file)\n",
    "    if not os.path.exists(data_dir):\n",
    "        os.makedirs(data_dir)\n",
    "    zip_file = os.path.join(data_dir, 'traffic-signs-data.zip')\n",
    "    \n",
    "    print('Downloading file...')\n",
    "    urllib.request.urlretrieve(url, zip_file)\n",
    "    \n",
    "    print('Unzipping file...')\n",
    "    with zipfile.ZipFile(zip_file, \"r\") as zip_ref:\n",
    "        zip_ref.extractall(data_dir)\n",
    "        \n",
    "    print('Done')\n",
    "        \n",
    "assert(os.path.isfile(training_file))\n",
    "assert(os.path.isfile(testing_file))\n",
    "\n",
    "with open(training_file, mode='rb') as f:\n",
    "    train = pickle.load(f)\n",
    "with open(testing_file, mode='rb') as f:\n",
    "    test = pickle.load(f)\n",
    "    \n",
    "X_train, y_train = train['features'], train['labels']\n",
    "X_test, y_test = test['features'], test['labels']"
   ]
  },
  {
   "cell_type": "code",
   "execution_count": 2,
   "metadata": {
    "collapsed": true
   },
   "outputs": [],
   "source": [
    "# settings\n",
    "DOWNSAMPLING = 0.2\n",
    "\n",
    "DATA_AUGMENTATION_MULTIPLIER = 1\n",
    "COARSE_TUNING_EPOCHS = 2\n",
    "COARSE_TUNING_DOWNSAMPLING = 0.1\n",
    "FINE_TUNING_EPOCHS = 2\n",
    "FINE_TUNING_DOWNSAMPLING = 0.3\n",
    "TRAINING_EPOCHS = 2\n"
   ]
  },
  {
   "cell_type": "code",
   "execution_count": 3,
   "metadata": {
    "collapsed": false
   },
   "outputs": [],
   "source": [
    "# downsampling\n",
    "# for local experimenting and testing before running in AWS server\n",
    "import numpy as np\n",
    "\n",
    "if DOWNSAMPLING < 0.99:\n",
    "    perm = np.random.permutation(len(X_train))\n",
    "    n_train = int(DOWNSAMPLING*len(X_train))\n",
    "    X_train = X_train[perm[:n_train]]\n",
    "    y_train = y_train[perm[:n_train]]"
   ]
  },
  {
   "cell_type": "markdown",
   "metadata": {},
   "source": [
    "---\n",
    "\n",
    "## Step 1: Dataset Summary & Exploration\n",
    "\n",
    "The pickled data is a dictionary with 4 key/value pairs:\n",
    "\n",
    "- `'features'` is a 4D array containing raw pixel data of the traffic sign images, (num examples, width, height, channels).\n",
    "- `'labels'` is a 2D array containing the label/class id of the traffic sign. The file `signnames.csv` contains id -> name mappings for each id.\n",
    "- `'sizes'` is a list containing tuples, (width, height) representing the the original width and height the image.\n",
    "- `'coords'` is a list containing tuples, (x1, y1, x2, y2) representing coordinates of a bounding box around the sign in the image. **THESE COORDINATES ASSUME THE ORIGINAL IMAGE. THE PICKLED DATA CONTAINS RESIZED VERSIONS (32 by 32) OF THESE IMAGES**\n",
    "\n",
    "Complete the basic data summary below."
   ]
  },
  {
   "cell_type": "code",
   "execution_count": 4,
   "metadata": {
    "collapsed": false
   },
   "outputs": [],
   "source": [
    "### Replace each question mark with the appropriate value.\n",
    "import numpy as np\n",
    "\n",
    "# TODO: Number of training examples\n",
    "n_train = len(X_train)\n",
    "\n",
    "# TODO: Number of testing examples.\n",
    "n_test = len(X_test)\n",
    "\n",
    "# TODO: What's the shape of an traffic sign image?\n",
    "image_shape = X_train.shape[1:]\n",
    "\n",
    "# TODO: How many unique classes/labels there are in the dataset.\n",
    "n_classes = len(np.unique(y_train))\n",
    "\n",
    "print(\"Number of training examples =\", n_train)\n",
    "print(\"Number of testing examples =\", n_test)\n",
    "print(\"Image data shape =\", image_shape)\n",
    "print(\"Number of classes =\", n_classes)"
   ]
  },
  {
   "cell_type": "markdown",
   "metadata": {},
   "source": [
    "Visualize the German Traffic Signs Dataset using the pickled file(s). This is open ended, suggestions include: plotting traffic sign images, plotting the count of each sign, etc.\n",
    "\n",
    "The [Matplotlib](http://matplotlib.org/) [examples](http://matplotlib.org/examples/index.html) and [gallery](http://matplotlib.org/gallery.html) pages are a great resource for doing visualizations in Python.\n",
    "\n",
    "**NOTE:** It's recommended you start with something simple first. If you wish to do more, come back to it after you've completed the rest of the sections."
   ]
  },
  {
   "cell_type": "code",
   "execution_count": 5,
   "metadata": {
    "collapsed": false
   },
   "outputs": [],
   "source": [
    "### Data exploration visualization goes here.\n",
    "### Feel free to use as many code cells as needed.\n",
    "import matplotlib.pyplot as plt\n",
    "import matplotlib.gridspec as gridspec\n",
    "\n",
    "# Visualizations will be shown in the notebook.\n",
    "%matplotlib inline\n",
    "\n",
    "classes_displayed = range(43)\n",
    "n_classes_per_row = 5\n",
    "n_cols = 2\n",
    "n_rows = (len(classes_displayed) + n_classes_per_row - 1)//n_classes_per_row\n",
    "\n",
    "plt.figure(figsize=(n_cols*n_classes_per_row,n_rows))\n",
    "gs1 = gridspec.GridSpec(n_rows,n_cols*n_classes_per_row)\n",
    "gs1.update(wspace=0.025, hspace=0.025) # set the spacing between axes. \n",
    "for i in range(len(classes_displayed)):\n",
    "    index = np.where(y_train==classes_displayed[i])[0]\n",
    "    random_selection = np.random.choice(index, n_cols, replace = False)\n",
    "    sampled_images = X_train[random_selection,:,:,:]\n",
    "    for j in range(n_cols):\n",
    "        ax = plt.subplot(gs1[i*n_cols + j])\n",
    "        plt.imshow(sampled_images[j,:,:,:])\n",
    "        ax.text(2,6,str(i), bbox={'facecolor':'green', 'alpha':0.5, 'pad':2})\n",
    "        plt.axis('off')\n",
    "\n"
   ]
  },
  {
   "cell_type": "code",
   "execution_count": 6,
   "metadata": {
    "collapsed": false
   },
   "outputs": [],
   "source": [
    "%matplotlib inline\n",
    "with open('./signnames.csv', 'r') as inputfile:\n",
    "    signnames = ['/#'.join(reversed(line.strip().split(','))) for line in inputfile]\n",
    "pos = n_classes-np.arange(n_classes)\n",
    "plt.figure(figsize=(8,8))\n",
    "plt.yticks(pos + 0.2, signnames[1:])\n",
    "plt.barh(pos, np.bincount(y_train))\n"
   ]
  },
  {
   "cell_type": "markdown",
   "metadata": {},
   "source": [
    "### Implementation\n",
    "\n",
    "Use the code cell (or multiple code cells, if necessary) to implement the first step of your project. Once you have completed your implementation and are satisfied with the results, be sure to thoroughly answer the questions that follow."
   ]
  },
  {
   "cell_type": "markdown",
   "metadata": {},
   "source": [
    "#### Brigtness normalization\n",
    "There is a lot variation in brigtness across photos and within photos. CLAHE (Contrast Limited Adaptive Histogram Equalization) is used to normalize brightness across photos and balance constrast within photos."
   ]
  },
  {
   "cell_type": "code",
   "execution_count": 7,
   "metadata": {
    "collapsed": false
   },
   "outputs": [],
   "source": [
    "import cv2\n",
    "\n",
    "clahe = cv2.createCLAHE(clipLimit=1.5, tileGridSize=(4,4))\n",
    "\n",
    "def brightness_normalize(img):\n",
    "    hls = cv2.cvtColor(img, cv2.COLOR_BGR2HLS)\n",
    "    hls[:,:,1] = clahe.apply(hls[:,:,1])\n",
    "    return cv2.cvtColor(hls, cv2.COLOR_HLS2BGR)\n",
    "\n",
    "n_cols = 10\n",
    "plt.figure(figsize=(n_cols,2))\n",
    "gs1 = gridspec.GridSpec(2,n_cols)\n",
    "gs1.update(wspace=0.025, hspace=0.025) # set the spacing between axes. \n",
    "for i in range(n_cols):\n",
    "    img = X_train[np.random.choice(len(X_train))]\n",
    "    ax = plt.subplot(gs1[i])\n",
    "    plt.imshow(img)\n",
    "    plt.axis('off')\n",
    "    ax = plt.subplot(gs1[i+n_cols])\n",
    "    plt.imshow(brightness_normalize(img))\n",
    "    plt.axis('off')\n"
   ]
  },
  {
   "cell_type": "markdown",
   "metadata": {},
   "source": [
    "#### Data augmentation\n",
    "Generating new photos by transforming existing ones in the training set. The following transfomations are used: rotation, shear, rescale and Gaussian blur."
   ]
  },
  {
   "cell_type": "code",
   "execution_count": 8,
   "metadata": {
    "collapsed": false
   },
   "outputs": [],
   "source": [
    "import cv2\n",
    "\n",
    "def combine_transformation_matrix(m1, m2):\n",
    "    m1 = np.vstack((m1, [0,0,1]))\n",
    "    m2 = np.vstack((m2, [0,0,1]))\n",
    "    return np.matmul(m1,m2)[:-1,:]\n",
    "\n",
    "def jitter(img, angle_r, angle_x, angle_y, scale, blur):\n",
    "    r,c = img.shape[:2]\n",
    "    rotation = cv2.getRotationMatrix2D((c/2,r/2), angle_r, scale)\n",
    "    src = np.float32([[c,0],[0,r],[0,0]])\n",
    "    dst = np.float32([[c,0],[0,r],np.tan(np.deg2rad([angle_x,angle_y]))*[c,r]])\n",
    "    shear = cv2.getAffineTransform(src,dst)\n",
    "    new_img = cv2.warpAffine(img, combine_transformation_matrix(rotation, shear), (c,r))\n",
    "    return cv2.GaussianBlur(new_img, (7,7), 0.7) if blur else new_img\n",
    "    \n",
    "def random_jitter(img, angles_r=(-10,0,10), angles_x=(-7,0,7), angles_y=(-7,0,7), scales = (0.9,1,1.1), blurs=(True, False)):\n",
    "    angle_r = np.random.choice(angles_r)\n",
    "    angle_x = np.random.choice(angles_x)\n",
    "    angle_y = np.random.choice(angles_y)\n",
    "    scale = np.random.choice(scales)\n",
    "    blur = np.random.choice(blurs)\n",
    "    return jitter(img, angle_r, angle_x, angle_y, scale, blur)\n",
    "\n",
    "def multiple_random_jitters(img, n_sample):\n",
    "    return [random_jitter(img) for _ in range(n_sample)]"
   ]
  },
  {
   "cell_type": "markdown",
   "metadata": {},
   "source": [
    "#### Display newly generated photos\n"
   ]
  },
  {
   "cell_type": "code",
   "execution_count": 9,
   "metadata": {
    "collapsed": false
   },
   "outputs": [],
   "source": [
    "%matplotlib inline\n",
    "classes_displayed = range(20)\n",
    "n_rows = len(classes_displayed)\n",
    "n_cols = 5\n",
    "plt.figure(figsize=(n_cols,n_rows))\n",
    "gs1 = gridspec.GridSpec(n_rows,n_cols)\n",
    "gs1.update(wspace=0.025, hspace=0.025) # set the spacing between axes. \n",
    "for i in range(len(classes_displayed)):\n",
    "    index = np.where(y_train==classes_displayed[i])[0]\n",
    "    random_selection = np.random.choice(index)\n",
    "    sampled_image = brightness_normalize(X_train[random_selection])\n",
    "    for j in range(n_cols):\n",
    "        ax = plt.subplot(gs1[i*n_cols + j])\n",
    "        plt.imshow(random_jitter(sampled_image))\n",
    "        plt.axis('off')"
   ]
  },
  {
   "cell_type": "code",
   "execution_count": 10,
   "metadata": {
    "collapsed": false,
    "scrolled": true
   },
   "outputs": [],
   "source": [
    "### Preprocess the data here.\n",
    "### Feel free to use as many code cells as needed.\n",
    "import cv2\n",
    "\n",
    "def center_and_rescale(X):\n",
    "    return 0.1 + X*(0.9-0.1)/255 - 0.5\n",
    "\n",
    "X_train = np.float32([center_and_rescale(brightness_normalize(x)) for x in X_train])\n",
    "X_test = np.float32([center_and_rescale(brightness_normalize(x)) for x in X_test])\n",
    "\n",
    "def encode_label(y, n_classes):\n",
    "    return y.reshape((-1,1)) == np.arange(n_classes, dtype=int).reshape((1,-1))\n",
    "\n",
    "y_train = encode_label(y_train, n_classes)\n",
    "y_test = encode_label(y_test, n_classes)"
   ]
  },
  {
   "cell_type": "markdown",
   "metadata": {},
   "source": [
    "### Question 1 \n",
    "\n",
    "_Describe how you preprocessed the data. Why did you choose that technique?_"
   ]
  },
  {
   "cell_type": "markdown",
   "metadata": {},
   "source": [
    "**Answer:**"
   ]
  },
  {
   "cell_type": "code",
   "execution_count": 11,
   "metadata": {
    "collapsed": false
   },
   "outputs": [],
   "source": [
    "### Generate data additional data (OPTIONAL!)\n",
    "### and split the data into training/validation/testing sets here.\n",
    "### Feel free to use as many code cells as needed.\n",
    "\n",
    "from sklearn.utils import shuffle, resample\n",
    "from sklearn.model_selection import train_test_split\n",
    "\n",
    "# def shuffle(X, y):\n",
    "#     perm = np.random.permutation(len(X))\n",
    "#     return X[perm], y[perm]\n",
    "\n",
    "# def train_test_split(X, y, test_size = 0.33):\n",
    "#     X_shuffled, y_shuffled = shuffle(X,y)\n",
    "#     m = int(len(X)*test_size)\n",
    "#     return X_shuffled[m:], X_shuffled[:m], y_shuffled[m:], y_shuffled[:m]\n",
    "\n",
    "X_train, X_val, y_train, y_val = train_test_split(X_train, y_train)\n"
   ]
  },
  {
   "cell_type": "code",
   "execution_count": 12,
   "metadata": {
    "collapsed": false
   },
   "outputs": [],
   "source": [
    "n_sample = DATA_AUGMENTATION_MULTIPLIER\n",
    "\n",
    "X_train_new = np.vstack(multiple_random_jitters(x, n_sample) for x in X_train)\n",
    "y_train_new = np.repeat(y_train, n_sample, axis=0)\n",
    "assert(len(X_train_new)==len(y_train_new))\n",
    "\n",
    "X_train = np.vstack((X_train, X_train_new))\n",
    "y_train = np.vstack((y_train, y_train_new))\n"
   ]
  },
  {
   "cell_type": "markdown",
   "metadata": {},
   "source": [
    "### Question 2\n",
    "\n",
    "_Describe how you set up the training, validation and testing data for your model. **Optional**: If you generated additional data, how did you generate the data? Why did you generate the data? What are the differences in the new dataset (with generated data) from the original dataset?_"
   ]
  },
  {
   "cell_type": "markdown",
   "metadata": {},
   "source": [
    "**Answer:**"
   ]
  },
  {
   "cell_type": "code",
   "execution_count": 13,
   "metadata": {
    "collapsed": false
   },
   "outputs": [],
   "source": [
    "### Define your architecture here.\n",
    "### Feel free to use as many code cells as needed.\n",
    "import tensorflow as tf\n",
    "\n",
    "# hyperparameters\n",
    "keep_prob = tf.placeholder(tf.float32)\n",
    "sigma = tf.placeholder(tf.float32, shape=())\n",
    "\n",
    "# dict to store layer specifications\n",
    "relu_spec = {'type': 'relu'}\n",
    "flatten_spec = {'type': 'flatten'}\n",
    "dropout_spec = {'type': 'dropout'}\n",
    "max_pool_spec = {\n",
    "    'type': 'max_pool', \n",
    "    'ksize': [1,2,2,1], \n",
    "    'strides': [1,2,2,1], \n",
    "    'padding': 'VALID'\n",
    "}\n",
    "\n",
    "def conv_spec(W_shape):\n",
    "    return {\n",
    "        'type': 'conv',\n",
    "        'W_shape': W_shape,\n",
    "        'strides': [1,1,1,1],\n",
    "        'padding': 'SAME'\n",
    "    }\n",
    "\n",
    "def linear_spec(n_output):\n",
    "    return {\n",
    "        'type': 'linear',\n",
    "        'n_output': n_output\n",
    "    }\n",
    "\n",
    "# a sequential lenet-like network\n",
    "lenet_specs = [\n",
    "    'squential',\n",
    "    conv_spec((3,3,3,8)),           # 32x32x8\n",
    "    conv_spec((3,3,8,16)),          # 32x32x16\n",
    "    relu_spec,\n",
    "    max_pool_spec,                  # 16x16x16\n",
    "    dropout_spec,\n",
    "    conv_spec((3,3,16,32)),         # 16x16x32\n",
    "    conv_spec((3,3,32,64)),         # 16x16x64\n",
    "    relu_spec,\n",
    "    max_pool_spec,                  # 8x8x64\n",
    "    dropout_spec,\n",
    "    flatten_spec,                   # 4096\n",
    "    linear_spec(1024),              # 1024\n",
    "    relu_spec,\n",
    "    dropout_spec,\n",
    "    linear_spec(n_classes)          # 43\n",
    "]\n",
    "\n",
    "# layer used in inception module/network\n",
    "max_pooling_inception_spec = {\n",
    "    'type': 'max_pool', \n",
    "    'ksize': [1,3,3,1], \n",
    "    'strides': [1,1,1,1], \n",
    "    'padding': 'SAME'\n",
    "}\n",
    "\n",
    "avg_pooling_inception_spec = {\n",
    "    'type': 'avg_pool',\n",
    "    'ksize': [1,2,2,1],\n",
    "    'strides': [1,2,2,1],\n",
    "    'padding': 'VALID'\n",
    "}\n",
    "\n",
    "# an individual inception module (parallel architecture)\n",
    "def inception_module_spec(input_depth, output_depth):\n",
    "    return [\n",
    "        'parallel',\n",
    "        conv_spec((1,1,input_depth,output_depth//4)),\n",
    "        [\n",
    "            'sequential',\n",
    "            conv_spec((1,1,input_depth,output_depth//4)),\n",
    "            conv_spec((3,3,output_depth//4,output_depth//2))\n",
    "        ],\n",
    "        [\n",
    "            'sequential',\n",
    "            conv_spec((1,1,input_depth,output_depth//16)),\n",
    "            conv_spec((5,5,output_depth//16,output_depth//8))\n",
    "        ],\n",
    "        [\n",
    "            'sequential',\n",
    "            max_pooling_inception_spec,\n",
    "            conv_spec((1,1,input_depth,output_depth//8))\n",
    "        ]\n",
    "    ]\n",
    "\n",
    "inception_net = [\n",
    "                                     # output     | parameters\n",
    "    'sequential',\n",
    "    conv_spec((3,3,3,8)),            # 32x32x16   | 3*3*3*8\n",
    "    conv_spec((3,3,8,64)),           # 32x32x64   | 3*3*8*64\n",
    "    relu_spec,\n",
    "    max_pool_spec,                   # 16x16x64\n",
    "    \n",
    "    inception_module_spec(64, 128),  # 16x16x128  | ~2*64*128 \n",
    "    relu_spec,\n",
    "    ['residual'] +\n",
    "    inception_module_spec(128, 128), # 16x16x128  | ~2*128*128\n",
    "    relu_spec,\n",
    "    max_pool_spec,                   # 8x8x128\n",
    "    \n",
    "    inception_module_spec(128, 256), # 8x8x256    | ~2*128*256\n",
    "    relu_spec,\n",
    "    ['residual'] +\n",
    "    inception_module_spec(256, 256), # 8x8x256    | ~2*256*256\n",
    "    relu_spec,\n",
    "    max_pool_spec,                   # 4x4x256\n",
    "\n",
    "    inception_module_spec(256, 256), # 4x4x256    | ~2*256*256\n",
    "    relu_spec,\n",
    "    avg_pooling_inception_spec,      # 2x2x256 \n",
    "    dropout_spec,\n",
    "    \n",
    "    flatten_spec,                    # 1024\n",
    "    dropout_spec,\n",
    "    linear_spec(1024),               # 1024       | 1024*1024\n",
    "    relu_spec,\n",
    "    dropout_spec,\n",
    "    linear_spec(n_classes)           # 43         | 1024*43\n",
    "]\n",
    "\n",
    "from tensorflow.contrib.layers import flatten\n",
    "\n",
    "# generate & build a single layer\n",
    "def layer_from_spec(x, spec):\n",
    "    layer_type = spec['type']\n",
    "    \n",
    "    if layer_type == 'conv':\n",
    "        conv_W = tf.Variable(tf.truncated_normal(spec['W_shape'])*sigma)\n",
    "        conv_b = tf.Variable(tf.zeros(spec['W_shape'][-1]))\n",
    "        return tf.nn.conv2d(x, conv_W, strides=spec['strides'], padding=spec['padding']) + conv_b\n",
    "    \n",
    "    elif layer_type == 'relu':\n",
    "        return tf.nn.relu(x)\n",
    "    \n",
    "    elif layer_type == 'max_pool':\n",
    "        return tf.nn.max_pool(x, ksize=spec['ksize'], strides=spec['strides'], padding=spec['padding'])\n",
    "\n",
    "    elif layer_type == 'avg_pool':\n",
    "        return tf.nn.avg_pool(x, ksize=spec['ksize'], strides=spec['strides'], padding=spec['padding'])\n",
    "\n",
    "    elif layer_type == 'flatten':\n",
    "        return flatten(x)\n",
    "    \n",
    "    elif layer_type == 'dropout':\n",
    "        return tf.nn.dropout(x, keep_prob)\n",
    "    \n",
    "    elif layer_type == 'linear':\n",
    "        weight_shape = (x.get_shape().as_list()[-1], spec['n_output'])\n",
    "        weight = tf.Variable(tf.truncated_normal(weight_shape)*sigma)\n",
    "        bias = tf.Variable(tf.zeros(weight_shape[-1]))\n",
    "        return tf.matmul(x, weight) + bias\n",
    "    \n",
    "    return x\n",
    "\n",
    "# generate & build a network \n",
    "# depending on the specification, will call one of the 4 other functions\n",
    "# to generate & build component layers/networks\n",
    "def network(x,specs):\n",
    "    if isinstance(specs, (list, tuple)):\n",
    "        if specs[0] == 'sequential':\n",
    "            return sequential_network(x, specs[1:])\n",
    "        elif specs[0] == 'parallel':\n",
    "            return parallel_network(x, specs[1:])\n",
    "        elif specs[0] == 'residual':\n",
    "            return x + network(x, specs[1:])\n",
    "        else:\n",
    "            raise Exception('Invalid network type (can only be either sequential, parallel or residual), not' + str(specs))\n",
    "    return layer_from_spec(x, specs)\n",
    "\n",
    "def sequential_network(x, specs):\n",
    "    layer = x\n",
    "    for spec in specs:\n",
    "        layer = network(layer, spec)\n",
    "    return layer\n",
    "\n",
    "def parallel_network(x, specs):\n",
    "    layers = [network(x, spec) for spec in specs]\n",
    "    return tf.concat(3, layers)\n",
    "    \n",
    "def LeNet(x):\n",
    "    return network(x, lenet_specs)\n"
   ]
  },
  {
   "cell_type": "markdown",
   "metadata": {},
   "source": [
    "### Question 3\n",
    "\n",
    "_What does your final architecture look like? (Type of model, layers, sizes, connectivity, etc.)  For reference on how to build a deep neural network using TensorFlow, see [Deep Neural Network in TensorFlow\n",
    "](https://classroom.udacity.com/nanodegrees/nd013/parts/fbf77062-5703-404e-b60c-95b78b2f3f9e/modules/6df7ae49-c61c-4bb2-a23e-6527e69209ec/lessons/b516a270-8600-4f93-a0a3-20dfeabe5da6/concepts/83a3a2a2-a9bd-4b7b-95b0-eb924ab14432) from the classroom._\n"
   ]
  },
  {
   "cell_type": "markdown",
   "metadata": {},
   "source": [
    "**Answer:**"
   ]
  },
  {
   "cell_type": "code",
   "execution_count": 16,
   "metadata": {
    "collapsed": false
   },
   "outputs": [],
   "source": [
    "### Train your model here.\n",
    "### Feel free to use as many code cells as needed.\n",
    "\n",
    "x = tf.placeholder(tf.float32, (None, 32, 32, 3))\n",
    "y = tf.placeholder(tf.float32, (None, n_classes))\n",
    "\n",
    "learning_rate = tf.placeholder(tf.float32, ())\n",
    "\n",
    "# logits = LeNet(x)\n",
    "logits = network(x, inception_net)\n",
    "loss_op = tf.reduce_mean(tf.nn.softmax_cross_entropy_with_logits(logits, y))\n",
    "correct_prediction = tf.equal(tf.argmax(logits, 1), tf.argmax(y, 1))\n",
    "accuracy_op = tf.reduce_mean(tf.cast(correct_prediction, tf.float32))\n",
    "opt = tf.train.AdamOptimizer(learning_rate)\n",
    "train_op = opt.minimize(loss_op)\n",
    "\n",
    "def eval_data(X_data, y_data, batch):\n",
    "    steps_per_epoch = len(X_data) // batch\n",
    "    num_examples = steps_per_epoch * batch\n",
    "    total_acc, total_loss = 0, 0\n",
    "    sess = tf.get_default_session()\n",
    "    for step in range(steps_per_epoch):\n",
    "        batch_x = X_data[step*batch:(step+1)*batch]\n",
    "        batch_y = y_data[step*batch:(step+1)*batch]\n",
    "        loss, acc = sess.run([loss_op, accuracy_op], feed_dict={x: batch_x, y: batch_y, keep_prob: 1.0})\n",
    "        total_acc += (acc * batch_x.shape[0])\n",
    "        total_loss += (loss * batch_x.shape[0])\n",
    "    return total_loss/num_examples, total_acc/num_examples\n"
   ]
  },
  {
   "cell_type": "code",
   "execution_count": 30,
   "metadata": {
    "collapsed": false
   },
   "outputs": [],
   "source": [
    "def train(params, data, evaluate_test=False, save=False):\n",
    "    print('---------------------------------------')\n",
    "    print('Training with the following parameters:')\n",
    "    print('---------------------------------------')\n",
    "    for k,v in params.items():\n",
    "        print('{:<20}: {:<30}'.format(k,v))\n",
    "    print('---------------------------------------')\n",
    "        \n",
    "    if evaluate_test:\n",
    "        X_train, y_train, X_val, y_val, X_test, y_test = data[:6]\n",
    "    else:\n",
    "        X_train, y_train, X_val, y_val = data[:4]\n",
    "        \n",
    "    batch = params['batch size']        \n",
    "    steps_per_epoch = len(X_train) // batch\n",
    "    num_examples = steps_per_epoch * batch\n",
    "    \n",
    "    sess = tf.get_default_session()\n",
    "\n",
    "    sess.run(tf.global_variables_initializer(), feed_dict={sigma:params['sigma']})\n",
    "\n",
    "    # Train model\n",
    "    for i in range(params['epochs']):\n",
    "        X_shuffle, y_shuffle = shuffle(X_train, y_train)\n",
    "        for step in range(steps_per_epoch):\n",
    "            sess.run(train_op, feed_dict={x: X_shuffle[step*batch:(step+1)*batch],\n",
    "                                          y: y_shuffle[step*batch:(step+1)*batch], \n",
    "                                          keep_prob: params['keep prob'], \n",
    "                                          learning_rate: params['learning rate']})\n",
    "\n",
    "        val_loss, val_acc = eval_data(X_val, y_val, 64)\n",
    "        print('Epoch: {:<4} - Validation cost: {:<10.3}, accuracy: {:<5.3}'.format(i+1,val_loss, val_acc))  \n",
    "\n",
    "    if save:\n",
    "        try: saver\n",
    "        except NameError: saver = tf.train.Saver()\n",
    "        saver.save(sess, 'inception')\n",
    "        print('Model saved')\n",
    "\n",
    "    # Evaluate on the test data\n",
    "    if evaluate_test:\n",
    "        test_loss, test_acc = eval_data(X_test, y_test, 64)\n",
    "        print(\"Test loss = {:.3f}\".format(test_loss))\n",
    "        print(\"Test accuracy = {:.3f}\".format(test_acc))\n",
    "        return test_loss, test_acc\n",
    "\n",
    "    return val_loss, val_acc\n"
   ]
  },
  {
   "cell_type": "code",
   "execution_count": null,
   "metadata": {
    "collapsed": false
   },
   "outputs": [],
   "source": [
    "# choosing batch size and hyperparameter\n",
    "\n",
    "import sklearn.utils\n",
    "\n",
    "# coarse tuning hyperparameters\n",
    "\n",
    "X_train2, y_train2 = sklearn.utils.resample(X_train, y_train, replace=False, \n",
    "                                            n_samples = int(len(X_train)*COARSE_TUNING_DOWNSAMPLING))\n",
    "\n",
    "batch_grid = [32, 64, 128]\n",
    "sigma_grid = [0.1, 0.01, 0.001]\n",
    "learning_rate_grid = [0.01, 0.001, 0.0001]\n",
    "keep_prob_grid = [0.3, 0.5, 0.7]\n",
    "\n",
    "param = {\n",
    "    'sigma': 0.1,\n",
    "    'epochs': COARSE_TUNING_EPOCHS,\n",
    "    'batch size': 32,\n",
    "    'learning rate': 0.001,\n",
    "    'keep prob': 0.5  \n",
    "}\n",
    "\n",
    "with tf.Session() as session:\n",
    "    performances = []\n",
    "    for rate in learning_rate_grid:\n",
    "        param['learning rate'] = rate\n",
    "        param['epochs'] = int(COARSE_TUNING_EPOCHS*(np.log(max(learning_rate_grid)/rate)+1))    \n",
    "        cost, accuracy = train(param, (X_train2, y_train2, X_val, y_val))\n",
    "        performances.append(accuracy)    \n",
    "    best_learning_rate = learning_rate_grid[np.argsort(performances)[-1]]\n",
    "    param['learning rate'] = best_learning_rate\n",
    "    param['epochs'] = int(COARSE_TUNING_EPOCHS*(np.log(max(learning_rate_grid)/rate)+1))    \n",
    "\n",
    "    performances = []\n",
    "    for s in sigma_grid:\n",
    "        param['sigma'] = s\n",
    "        cost, accuracy = train(param, (X_train2, y_train2, X_val, y_val))\n",
    "        performances.append(accuracy)    \n",
    "    best_sigma = learning_rate_grid[np.argsort(performances)[-1]]\n",
    "    param['sigma'] = best_sigma\n",
    "\n",
    "    performances = []\n",
    "    for batch in batch_grid:\n",
    "        param['batch size'] = batch\n",
    "        cost, accuracy = train(param, (X_train2, y_train2, X_val, y_val))\n",
    "        performances.append(accuracy)    \n",
    "    best_batch = batch_grid[np.argsort(performances)[-1]]\n",
    "    param['batch size'] = best_batch\n",
    "\n",
    "\n",
    "    performances = []\n",
    "    for prob in keep_prob_grid:\n",
    "        param['keep prob'] = prob\n",
    "        cost, accuracy = train(param, (X_train2, y_train2, X_val, y_val))\n",
    "        performances.append(accuracy)    \n",
    "    best_prob = learning_rate_grid[np.argsort(performances)[-1]]\n",
    "    param['keep prob'] = best_prob\n",
    "\n",
    "                        \n",
    "    \n",
    "# params_grid = [{\n",
    "#     'sigma': s,\n",
    "#     'epochs': COARSE_TUNING_EPOCHS,\n",
    "#     'batch size': b,\n",
    "#     'learning rate': r,\n",
    "#     'keep prob': p  \n",
    "# } for s in sigma_grid for b in batch_grid for r in learning_rate_grid for p in keep_prob_grid]\n",
    "\n",
    "\n",
    "# performances = []\n",
    "# for param in params_grid:\n",
    "#     param['epochs'] = int(COARSE_TUNING_EPOCHS*np.log(param['learning rate']/min(learning_rate_grid)))\n",
    "#     cost, accuracy = train(sess, param, (X_train2, y_train2, X_val, y_val))\n",
    "#     performances.append(accuracy)"
   ]
  },
  {
   "cell_type": "code",
   "execution_count": null,
   "metadata": {
    "collapsed": false
   },
   "outputs": [],
   "source": [
    "# fine tuning hyperparameters\n",
    "# X_train2, y_train2 = sklearn.utils.resample(X_train, y_train, replace=False, \n",
    "#                                             n_samples = int(len(X_train)*FINE_TUNING_DOWNSAMPLING))\n",
    "\n",
    "# best_params_idx = np.argsort(performances)[-1:-6:-1]\n",
    "# best_params = [params_grid[idx] for idx in best_params_idx]\n",
    "# performances2 = []\n",
    "# for param in best_params:\n",
    "#     param['epochs'] = FINE_TUNING_EPOCHS\n",
    "#     cost, accuracy = train(param, (X_train2, y_train2, X_val, y_val))\n",
    "#     performances2.append(accuracy)"
   ]
  },
  {
   "cell_type": "code",
   "execution_count": null,
   "metadata": {
    "collapsed": false
   },
   "outputs": [],
   "source": [
    "# best_params_idx2 = np.argsort(performances2)[-1]\n",
    "# best_param = best_params[best_params_idx2]\n",
    "best_param = default_param\n",
    "best_param['epochs'] = TRAINING_EPOCHS\n",
    "cost, accuracy = train(best_param, (X_train, y_train, X_val, y_val, X_test, y_test), True, True)"
   ]
  },
  {
   "cell_type": "markdown",
   "metadata": {},
   "source": [
    "### Question 4\n",
    "\n",
    "_How did you train your model? (Type of optimizer, batch size, epochs, hyperparameters, etc.)_\n"
   ]
  },
  {
   "cell_type": "markdown",
   "metadata": {},
   "source": [
    "**Answer:**"
   ]
  },
  {
   "cell_type": "markdown",
   "metadata": {},
   "source": [
    "### Question 5\n",
    "\n",
    "\n",
    "_What approach did you take in coming up with a solution to this problem? It may have been a process of trial and error, in which case, outline the steps you took to get to the final solution and why you chose those steps. Perhaps your solution involved an already well known implementation or architecture. In this case, discuss why you think this is suitable for the current problem._"
   ]
  },
  {
   "cell_type": "markdown",
   "metadata": {},
   "source": [
    "**Answer:**"
   ]
  },
  {
   "cell_type": "markdown",
   "metadata": {},
   "source": [
    "---\n",
    "\n",
    "## Step 3: Test a Model on New Images\n",
    "\n",
    "Take several pictures of traffic signs that you find on the web or around you (at least five), and run them through your classifier on your computer to produce example results. The classifier might not recognize some local signs but it could prove interesting nonetheless.\n",
    "\n",
    "You may find `signnames.csv` useful as it contains mappings from the class id (integer) to the actual sign name."
   ]
  },
  {
   "cell_type": "markdown",
   "metadata": {},
   "source": [
    "### Implementation\n",
    "\n",
    "Use the code cell (or multiple code cells, if necessary) to implement the first step of your project. Once you have completed your implementation and are satisfied with the results, be sure to thoroughly answer the questions that follow."
   ]
  },
  {
   "cell_type": "code",
   "execution_count": null,
   "metadata": {
    "collapsed": true
   },
   "outputs": [],
   "source": [
    "### Load the images and plot them here.\n",
    "### Feel free to use as many code cells as needed."
   ]
  },
  {
   "cell_type": "markdown",
   "metadata": {},
   "source": [
    "### Question 6\n",
    "\n",
    "_Choose five candidate images of traffic signs and provide them in the report. Are there any particular qualities of the image(s) that might make classification difficult? It could be helpful to plot the images in the notebook._\n",
    "\n"
   ]
  },
  {
   "cell_type": "markdown",
   "metadata": {},
   "source": [
    "**Answer:**"
   ]
  },
  {
   "cell_type": "code",
   "execution_count": null,
   "metadata": {
    "collapsed": true
   },
   "outputs": [],
   "source": [
    "### Run the predictions here.\n",
    "### Feel free to use as many code cells as needed."
   ]
  },
  {
   "cell_type": "markdown",
   "metadata": {},
   "source": [
    "### Question 7\n",
    "\n",
    "_Is your model able to perform equally well on captured pictures when compared to testing on the dataset? The simplest way to do this check the accuracy of the predictions. For example, if the model predicted 1 out of 5 signs correctly, it's 20% accurate._\n",
    "\n",
    "_**NOTE:** You could check the accuracy manually by using `signnames.csv` (same directory). This file has a mapping from the class id (0-42) to the corresponding sign name. So, you could take the class id the model outputs, lookup the name in `signnames.csv` and see if it matches the sign from the image._\n"
   ]
  },
  {
   "cell_type": "markdown",
   "metadata": {},
   "source": [
    "**Answer:**"
   ]
  },
  {
   "cell_type": "code",
   "execution_count": null,
   "metadata": {
    "collapsed": true
   },
   "outputs": [],
   "source": [
    "### Visualize the softmax probabilities here.\n",
    "### Feel free to use as many code cells as needed."
   ]
  },
  {
   "cell_type": "markdown",
   "metadata": {},
   "source": [
    "### Question 8\n",
    "\n",
    "*Use the model's softmax probabilities to visualize the **certainty** of its predictions, [`tf.nn.top_k`](https://www.tensorflow.org/versions/r0.12/api_docs/python/nn.html#top_k) could prove helpful here. Which predictions is the model certain of? Uncertain? If the model was incorrect in its initial prediction, does the correct prediction appear in the top k? (k should be 5 at most)*\n",
    "\n",
    "`tf.nn.top_k` will return the values and indices (class ids) of the top k predictions. So if k=3, for each sign, it'll return the 3 largest probabilities (out of a possible 43) and the correspoding class ids.\n",
    "\n",
    "Take this numpy array as an example:\n",
    "\n",
    "```\n",
    "# (5, 6) array\n",
    "a = np.array([[ 0.24879643,  0.07032244,  0.12641572,  0.34763842,  0.07893497,\n",
    "         0.12789202],\n",
    "       [ 0.28086119,  0.27569815,  0.08594638,  0.0178669 ,  0.18063401,\n",
    "         0.15899337],\n",
    "       [ 0.26076848,  0.23664738,  0.08020603,  0.07001922,  0.1134371 ,\n",
    "         0.23892179],\n",
    "       [ 0.11943333,  0.29198961,  0.02605103,  0.26234032,  0.1351348 ,\n",
    "         0.16505091],\n",
    "       [ 0.09561176,  0.34396535,  0.0643941 ,  0.16240774,  0.24206137,\n",
    "         0.09155967]])\n",
    "```\n",
    "\n",
    "Running it through `sess.run(tf.nn.top_k(tf.constant(a), k=3))` produces:\n",
    "\n",
    "```\n",
    "TopKV2(values=array([[ 0.34763842,  0.24879643,  0.12789202],\n",
    "       [ 0.28086119,  0.27569815,  0.18063401],\n",
    "       [ 0.26076848,  0.23892179,  0.23664738],\n",
    "       [ 0.29198961,  0.26234032,  0.16505091],\n",
    "       [ 0.34396535,  0.24206137,  0.16240774]]), indices=array([[3, 0, 5],\n",
    "       [0, 1, 4],\n",
    "       [0, 5, 1],\n",
    "       [1, 3, 5],\n",
    "       [1, 4, 3]], dtype=int32))\n",
    "```\n",
    "\n",
    "Looking just at the first row we get `[ 0.34763842,  0.24879643,  0.12789202]`, you can confirm these are the 3 largest probabilities in `a`. You'll also notice `[3, 0, 5]` are the corresponding indices."
   ]
  },
  {
   "cell_type": "markdown",
   "metadata": {},
   "source": [
    "**Answer:**"
   ]
  },
  {
   "cell_type": "markdown",
   "metadata": {},
   "source": [
    "> **Note**: Once you have completed all of the code implementations and successfully answered each question above, you may finalize your work by exporting the iPython Notebook as an HTML document. You can do this by using the menu above and navigating to  \\n\",\n",
    "    \"**File -> Download as -> HTML (.html)**. Include the finished document along with this notebook as your submission."
   ]
  },
  {
   "cell_type": "code",
   "execution_count": null,
   "metadata": {
    "collapsed": true
   },
   "outputs": [],
   "source": []
  }
 ],
 "metadata": {
  "anaconda-cloud": {},
  "git": {
   "suppress_outputs": true
  },
  "kernelspec": {
   "display_name": "Python [conda env:traffic]",
   "language": "python",
   "name": "conda-env-traffic-py"
  },
  "language_info": {
   "codemirror_mode": {
    "name": "ipython",
    "version": 3
   },
   "file_extension": ".py",
   "mimetype": "text/x-python",
   "name": "python",
   "nbconvert_exporter": "python",
   "pygments_lexer": "ipython3",
   "version": "3.5.2"
  }
 },
 "nbformat": 4,
 "nbformat_minor": 1
}